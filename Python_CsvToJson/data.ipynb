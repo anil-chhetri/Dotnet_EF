{
 "cells": [
  {
   "cell_type": "code",
   "execution_count": 33,
   "metadata": {},
   "outputs": [],
   "source": [
    "import pandas as pd"
   ]
  },
  {
   "cell_type": "code",
   "execution_count": 34,
   "metadata": {},
   "outputs": [
    {
     "data": {
      "text/html": [
       "<div>\n",
       "<style scoped>\n",
       "    .dataframe tbody tr th:only-of-type {\n",
       "        vertical-align: middle;\n",
       "    }\n",
       "\n",
       "    .dataframe tbody tr th {\n",
       "        vertical-align: top;\n",
       "    }\n",
       "\n",
       "    .dataframe thead th {\n",
       "        text-align: right;\n",
       "    }\n",
       "</style>\n",
       "<table border=\"1\" class=\"dataframe\">\n",
       "  <thead>\n",
       "    <tr style=\"text-align: right;\">\n",
       "      <th></th>\n",
       "      <th>District</th>\n",
       "      <th>Zone</th>\n",
       "      <th>Ecological Belt</th>\n",
       "      <th>Development Region</th>\n",
       "      <th>Year (BS)</th>\n",
       "      <th>Year (AD)</th>\n",
       "      <th>Caste</th>\n",
       "      <th>Indicator</th>\n",
       "      <th>Value</th>\n",
       "    </tr>\n",
       "  </thead>\n",
       "  <tbody>\n",
       "    <tr>\n",
       "      <th>0</th>\n",
       "      <td>Achham</td>\n",
       "      <td>Seti</td>\n",
       "      <td>Hill</td>\n",
       "      <td>Far-Western</td>\n",
       "      <td>2068/69</td>\n",
       "      <td>2011/12</td>\n",
       "      <td>Nepali</td>\n",
       "      <td>Male</td>\n",
       "      <td>80304</td>\n",
       "    </tr>\n",
       "    <tr>\n",
       "      <th>1</th>\n",
       "      <td>Achham</td>\n",
       "      <td>Seti</td>\n",
       "      <td>Hill</td>\n",
       "      <td>Far-Western</td>\n",
       "      <td>2068/69</td>\n",
       "      <td>2011/12</td>\n",
       "      <td>Nepali</td>\n",
       "      <td>Female</td>\n",
       "      <td>90641</td>\n",
       "    </tr>\n",
       "    <tr>\n",
       "      <th>2</th>\n",
       "      <td>Achham</td>\n",
       "      <td>Seti</td>\n",
       "      <td>Hill</td>\n",
       "      <td>Far-Western</td>\n",
       "      <td>2068/69</td>\n",
       "      <td>2011/12</td>\n",
       "      <td>Achhami</td>\n",
       "      <td>Male</td>\n",
       "      <td>38070</td>\n",
       "    </tr>\n",
       "    <tr>\n",
       "      <th>3</th>\n",
       "      <td>Achham</td>\n",
       "      <td>Seti</td>\n",
       "      <td>Hill</td>\n",
       "      <td>Far-Western</td>\n",
       "      <td>2068/69</td>\n",
       "      <td>2011/12</td>\n",
       "      <td>Achhami</td>\n",
       "      <td>Female</td>\n",
       "      <td>45469</td>\n",
       "    </tr>\n",
       "    <tr>\n",
       "      <th>4</th>\n",
       "      <td>Achham</td>\n",
       "      <td>Seti</td>\n",
       "      <td>Hill</td>\n",
       "      <td>Far-Western</td>\n",
       "      <td>2068/69</td>\n",
       "      <td>2011/12</td>\n",
       "      <td>Magar</td>\n",
       "      <td>Male</td>\n",
       "      <td>515</td>\n",
       "    </tr>\n",
       "    <tr>\n",
       "      <th>5</th>\n",
       "      <td>Achham</td>\n",
       "      <td>Seti</td>\n",
       "      <td>Hill</td>\n",
       "      <td>Far-Western</td>\n",
       "      <td>2068/69</td>\n",
       "      <td>2011/12</td>\n",
       "      <td>Magar</td>\n",
       "      <td>Female</td>\n",
       "      <td>443</td>\n",
       "    </tr>\n",
       "  </tbody>\n",
       "</table>\n",
       "</div>"
      ],
      "text/plain": [
       "  District  Zone Ecological Belt Development Region Year (BS) Year (AD)  \\\n",
       "0   Achham  Seti            Hill        Far-Western   2068/69   2011/12   \n",
       "1   Achham  Seti            Hill        Far-Western   2068/69   2011/12   \n",
       "2   Achham  Seti            Hill        Far-Western   2068/69   2011/12   \n",
       "3   Achham  Seti            Hill        Far-Western   2068/69   2011/12   \n",
       "4   Achham  Seti            Hill        Far-Western   2068/69   2011/12   \n",
       "5   Achham  Seti            Hill        Far-Western   2068/69   2011/12   \n",
       "\n",
       "     Caste Indicator  Value  \n",
       "0   Nepali      Male  80304  \n",
       "1   Nepali    Female  90641  \n",
       "2  Achhami      Male  38070  \n",
       "3  Achhami    Female  45469  \n",
       "4    Magar      Male    515  \n",
       "5    Magar    Female    443  "
      ]
     },
     "execution_count": 34,
     "metadata": {},
     "output_type": "execute_result"
    }
   ],
   "source": [
    "df = pd.read_csv(\"https://raw.githubusercontent.com/opennepal/odp-census/master/Population%20by%20mother%20tongue%2C%20sex%20and%20age%20groups/data.csv\")\n",
    "df.head(6)"
   ]
  },
  {
   "cell_type": "code",
   "execution_count": 35,
   "metadata": {},
   "outputs": [
    {
     "data": {
      "text/plain": [
       "array(['2068/69'], dtype=object)"
      ]
     },
     "execution_count": 35,
     "metadata": {},
     "output_type": "execute_result"
    }
   ],
   "source": [
    "df['Year (BS)'].unique()"
   ]
  },
  {
   "cell_type": "code",
   "execution_count": 36,
   "metadata": {},
   "outputs": [
    {
     "data": {
      "text/plain": [
       "array(['Hill', 'Mountain', 'Terai'], dtype=object)"
      ]
     },
     "execution_count": 36,
     "metadata": {},
     "output_type": "execute_result"
    }
   ],
   "source": [
    "df['Ecological Belt'].unique()"
   ]
  },
  {
   "cell_type": "code",
   "execution_count": 37,
   "metadata": {},
   "outputs": [
    {
     "data": {
      "text/plain": [
       "4550"
      ]
     },
     "execution_count": 37,
     "metadata": {},
     "output_type": "execute_result"
    }
   ],
   "source": [
    "df['Caste'].count()"
   ]
  },
  {
   "cell_type": "code",
   "execution_count": 38,
   "metadata": {},
   "outputs": [
    {
     "data": {
      "text/plain": [
       "Index(['District', 'Zone', 'Ecological Belt', 'Development Region',\n",
       "       'Year (BS)', 'Year (AD)', 'Caste', 'Indicator', 'Value'],\n",
       "      dtype='object')"
      ]
     },
     "execution_count": 38,
     "metadata": {},
     "output_type": "execute_result"
    }
   ],
   "source": [
    "df.columns"
   ]
  },
  {
   "cell_type": "code",
   "execution_count": 39,
   "metadata": {},
   "outputs": [
    {
     "data": {
      "text/html": [
       "<div>\n",
       "<style scoped>\n",
       "    .dataframe tbody tr th:only-of-type {\n",
       "        vertical-align: middle;\n",
       "    }\n",
       "\n",
       "    .dataframe tbody tr th {\n",
       "        vertical-align: top;\n",
       "    }\n",
       "\n",
       "    .dataframe thead th {\n",
       "        text-align: right;\n",
       "    }\n",
       "</style>\n",
       "<table border=\"1\" class=\"dataframe\">\n",
       "  <thead>\n",
       "    <tr style=\"text-align: right;\">\n",
       "      <th></th>\n",
       "      <th>District</th>\n",
       "      <th>Zone</th>\n",
       "      <th>Ecological Belt</th>\n",
       "      <th>Development Region</th>\n",
       "      <th>Caste</th>\n",
       "      <th>Indicator</th>\n",
       "      <th>Value</th>\n",
       "    </tr>\n",
       "  </thead>\n",
       "  <tbody>\n",
       "    <tr>\n",
       "      <th>0</th>\n",
       "      <td>Achham</td>\n",
       "      <td>Seti</td>\n",
       "      <td>Hill</td>\n",
       "      <td>Far-Western</td>\n",
       "      <td>Nepali</td>\n",
       "      <td>Male</td>\n",
       "      <td>80304</td>\n",
       "    </tr>\n",
       "    <tr>\n",
       "      <th>1</th>\n",
       "      <td>Achham</td>\n",
       "      <td>Seti</td>\n",
       "      <td>Hill</td>\n",
       "      <td>Far-Western</td>\n",
       "      <td>Nepali</td>\n",
       "      <td>Female</td>\n",
       "      <td>90641</td>\n",
       "    </tr>\n",
       "    <tr>\n",
       "      <th>2</th>\n",
       "      <td>Achham</td>\n",
       "      <td>Seti</td>\n",
       "      <td>Hill</td>\n",
       "      <td>Far-Western</td>\n",
       "      <td>Achhami</td>\n",
       "      <td>Male</td>\n",
       "      <td>38070</td>\n",
       "    </tr>\n",
       "    <tr>\n",
       "      <th>3</th>\n",
       "      <td>Achham</td>\n",
       "      <td>Seti</td>\n",
       "      <td>Hill</td>\n",
       "      <td>Far-Western</td>\n",
       "      <td>Achhami</td>\n",
       "      <td>Female</td>\n",
       "      <td>45469</td>\n",
       "    </tr>\n",
       "    <tr>\n",
       "      <th>4</th>\n",
       "      <td>Achham</td>\n",
       "      <td>Seti</td>\n",
       "      <td>Hill</td>\n",
       "      <td>Far-Western</td>\n",
       "      <td>Magar</td>\n",
       "      <td>Male</td>\n",
       "      <td>515</td>\n",
       "    </tr>\n",
       "  </tbody>\n",
       "</table>\n",
       "</div>"
      ],
      "text/plain": [
       "  District  Zone Ecological Belt Development Region    Caste Indicator  Value\n",
       "0   Achham  Seti            Hill        Far-Western   Nepali      Male  80304\n",
       "1   Achham  Seti            Hill        Far-Western   Nepali    Female  90641\n",
       "2   Achham  Seti            Hill        Far-Western  Achhami      Male  38070\n",
       "3   Achham  Seti            Hill        Far-Western  Achhami    Female  45469\n",
       "4   Achham  Seti            Hill        Far-Western    Magar      Male    515"
      ]
     },
     "execution_count": 39,
     "metadata": {},
     "output_type": "execute_result"
    }
   ],
   "source": [
    "df = df[['District', 'Zone', 'Ecological Belt', 'Development Region', 'Caste', 'Indicator', 'Value']]\n",
    "df.head()"
   ]
  },
  {
   "cell_type": "code",
   "execution_count": 40,
   "metadata": {},
   "outputs": [],
   "source": [
    "df.rename(columns={\"Ecological Belt\": \"Ecological_Belt\", \"Development Region\": \"Development_Region\"}, inplace=True)"
   ]
  },
  {
   "cell_type": "code",
   "execution_count": 41,
   "metadata": {},
   "outputs": [
    {
     "data": {
      "text/plain": [
       "Index(['District', 'Zone', 'Ecological_Belt', 'Development_Region', 'Caste',\n",
       "       'Indicator', 'Value'],\n",
       "      dtype='object')"
      ]
     },
     "execution_count": 41,
     "metadata": {},
     "output_type": "execute_result"
    }
   ],
   "source": [
    "df.columns"
   ]
  },
  {
   "cell_type": "code",
   "execution_count": 42,
   "metadata": {},
   "outputs": [],
   "source": [
    "df.to_json('../Data/data.json', orient='records')"
   ]
  }
 ],
 "metadata": {
  "interpreter": {
   "hash": "cc53891182a2a86487c73b55623e1270b5030f1f05b0bc30652c3139090b41ce"
  },
  "kernelspec": {
   "display_name": "Python 3.7.7 64-bit ('base': conda)",
   "language": "python",
   "name": "python3"
  },
  "language_info": {
   "codemirror_mode": {
    "name": "ipython",
    "version": 3
   },
   "file_extension": ".py",
   "mimetype": "text/x-python",
   "name": "python",
   "nbconvert_exporter": "python",
   "pygments_lexer": "ipython3",
   "version": "3.7.7"
  },
  "orig_nbformat": 4
 },
 "nbformat": 4,
 "nbformat_minor": 2
}
